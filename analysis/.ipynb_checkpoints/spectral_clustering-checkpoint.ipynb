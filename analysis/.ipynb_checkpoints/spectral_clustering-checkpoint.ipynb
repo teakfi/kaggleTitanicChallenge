{
 "cells": [
  {
   "cell_type": "markdown",
   "metadata": {},
   "source": [
    "### Spectral clustering of Titanic data ###\n",
    "\n",
    "## Plan ##\n",
    "\n",
    "1. load libraries\n",
    "2. load data\n",
    "    - split to test & train\n",
    "3. develop/tune distance measurements for different variable distance $\\exists$ 0-1\n",
    "    - class\n",
    "    - sex\n",
    "    - age\n",
    "    - number of siblings / spouses aboard\n",
    "    - number of parents / children aboard\n",
    "    - ticket number\n",
    "    - fare\n",
    "    - cabin number\n",
    "    - port of embarkation\n",
    "4. develop/tune combined distance measurement ~ weights for different distances\n",
    "5. calculate affinity matrix\n",
    "    - find reference and formula\n",
    "6. fit multiple different number of clusters (there can be more than 1 cluster which has high likelihood for survival)\n",
    "7. select few best number of cluster\n",
    "8. test & analyze result accuracy for different variables\n",
    "9. repeat 3-8 until good enough\n",
    "\n",
    "## Revision ##\n",
    "\n",
    "project cancelled.\n"
   ]
  },
  {
   "cell_type": "code",
   "execution_count": null,
   "metadata": {},
   "outputs": [],
   "source": []
  }
 ],
 "metadata": {
  "kernelspec": {
   "display_name": "Python 3 (ipykernel)",
   "language": "python",
   "name": "python3"
  },
  "language_info": {
   "codemirror_mode": {
    "name": "ipython",
    "version": 3
   },
   "file_extension": ".py",
   "mimetype": "text/x-python",
   "name": "python",
   "nbconvert_exporter": "python",
   "pygments_lexer": "ipython3",
   "version": "3.11.0"
  }
 },
 "nbformat": 4,
 "nbformat_minor": 4
}
